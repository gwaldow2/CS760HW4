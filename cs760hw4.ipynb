{
  "nbformat": 4,
  "nbformat_minor": 0,
  "metadata": {
    "colab": {
      "provenance": []
    },
    "kernelspec": {
      "name": "python3",
      "display_name": "Python 3"
    },
    "language_info": {
      "name": "python"
    }
  },
  "cells": [
    {
      "cell_type": "markdown",
      "source": [
        "Grant Waldow"
      ],
      "metadata": {
        "id": "Q3A-2aUHSX4y"
      }
    },
    {
      "cell_type": "code",
      "source": [
        "from google.colab import drive\n",
        "drive.mount('/content/drive')"
      ],
      "metadata": {
        "id": "k8ui3y7VSY0z",
        "colab": {
          "base_uri": "https://localhost:8080/"
        },
        "outputId": "95fcc742-e6f7-474e-da0d-673f5ed0e26a"
      },
      "execution_count": 2,
      "outputs": [
        {
          "output_type": "stream",
          "name": "stdout",
          "text": [
            "Mounted at /content/drive\n"
          ]
        }
      ]
    },
    {
      "cell_type": "code",
      "source": [
        "%cd /content/drive/MyDrive/CS760/HW4"
      ],
      "metadata": {
        "id": "5mGiwcEBSZeB",
        "colab": {
          "base_uri": "https://localhost:8080/"
        },
        "outputId": "6c5077cf-bae0-4613-d72c-89841fe3fda0"
      },
      "execution_count": 3,
      "outputs": [
        {
          "output_type": "stream",
          "name": "stdout",
          "text": [
            "/content/drive/MyDrive/CS760/HW4\n"
          ]
        }
      ]
    },
    {
      "cell_type": "code",
      "source": [
        "import math\n",
        "import numpy as np\n",
        "import matplotlib.pyplot as plt\n",
        "import random\n",
        "import pandas as pd\n",
        "import os"
      ],
      "metadata": {
        "id": "ySnkARLvScIT"
      },
      "execution_count": 4,
      "outputs": []
    },
    {
      "cell_type": "markdown",
      "source": [
        "# Q 3.1"
      ],
      "metadata": {
        "id": "8dg7u5f4VwO_"
      }
    },
    {
      "cell_type": "code",
      "source": [
        "def read_language_files(language_prefix):\n",
        "    texts = []\n",
        "    for i in range(10):\n",
        "        filename = os.path.join(language_prefix + str(i) + \".txt\")\n",
        "        with open(filename, 'r', encoding='utf-8') as file:\n",
        "            texts.append(file.read())\n",
        "    return texts\n",
        "\n",
        "e_texts = read_language_files(\"e\")\n",
        "j_texts = read_language_files(\"j\")\n",
        "s_texts = read_language_files(\"s\")\n",
        "\n",
        "# Calculate the prior probabilities w/ additive smoothing\n",
        "alpha = 0.5 #1/2\n",
        "K = 3 # e,j,s\n",
        "N_e = len(e_texts)\n",
        "N_j = len(j_texts)\n",
        "N_s = len(s_texts)\n",
        "N = N_e + N_j + N_s\n",
        "p_e = (N_e + alpha) / (N + K * alpha)\n",
        "p_j = (N_j + alpha) / (N + K * alpha)\n",
        "p_s = (N_s + alpha) / (N + K * alpha)\n",
        "\n",
        "# going to do calculations with log probs. for accuracy, but will report non-log probabilities\n",
        "log_p_e = math.log(p_e)\n",
        "log_p_j = math.log(p_j)\n",
        "log_p_s = math.log(p_s)\n",
        "\n",
        "print(f\"Prior Prob. for English: {p_e}\")\n",
        "print(f\"Prior Prob. for Japanese: {p_j}\")\n",
        "print(f\"Prior Prob. for Spanish: {p_s}\")"
      ],
      "metadata": {
        "colab": {
          "base_uri": "https://localhost:8080/"
        },
        "id": "knW4XWzy2Bf_",
        "outputId": "df7f7f0b-ed08-4b6d-b354-ebfedd2e1e09"
      },
      "execution_count": 5,
      "outputs": [
        {
          "output_type": "stream",
          "name": "stdout",
          "text": [
            "Prior Prob. for English: 0.3333333333333333\n",
            "Prior Prob. for Japanese: 0.3333333333333333\n",
            "Prior Prob. for Spanish: 0.3333333333333333\n"
          ]
        }
      ]
    },
    {
      "cell_type": "markdown",
      "source": [
        "Q 3.2"
      ],
      "metadata": {
        "id": "JFGhiXv2Vucr"
      }
    },
    {
      "cell_type": "code",
      "source": [
        "import numpy as np\n",
        "\n",
        "def compute_class_conditional_probabilities(texts):\n",
        "    character_counts = np.zeros(27)\n",
        "    char_to_index = {char: idx for idx, char in enumerate(\"abcdefghijklmnopqrstuvwxyz \")}\n",
        "\n",
        "    # Count occurrences\n",
        "    for text in texts:\n",
        "        for char in text:\n",
        "            if char in char_to_index:\n",
        "                character_counts[char_to_index[char]] += 1\n",
        "\n",
        "    # Class-conditional probabilities with additive smoothing\n",
        "    total_chars = np.sum(character_counts)\n",
        "    theta = (character_counts + alpha) / (total_chars + 27 * alpha) # V = 27\n",
        "\n",
        "    return theta # np array containing class-cond. probabilities\n",
        "\n",
        "theta_e = compute_class_conditional_probabilities(e_texts)\n",
        "theta_j = compute_class_conditional_probabilities(j_texts)\n",
        "theta_s = compute_class_conditional_probabilities(s_texts)\n",
        "\n",
        "print(\"Class-conditional probabilities for English:\")\n",
        "for idx, char in enumerate(\"abcdefghijklmnopqrstuvwxyz \"):\n",
        "    print(f\"{char}: {theta_e[idx]}\")\n"
      ],
      "metadata": {
        "colab": {
          "base_uri": "https://localhost:8080/"
        },
        "id": "PA9XLrxF6gW9",
        "outputId": "73ca4a4c-88aa-4c06-cfa5-a7bba8d3f4c8"
      },
      "execution_count": 6,
      "outputs": [
        {
          "output_type": "stream",
          "name": "stdout",
          "text": [
            "Class-conditional probabilities for English:\n",
            "a: 0.0601685114819098\n",
            "b: 0.011134974392863043\n",
            "c: 0.021509995043779945\n",
            "d: 0.021972575582355856\n",
            "e: 0.1053692383941847\n",
            "f: 0.018932760614571286\n",
            "g: 0.017478936064761277\n",
            "h: 0.047216256401784236\n",
            "i: 0.055410540227986124\n",
            "j: 0.001420783082768875\n",
            "k: 0.0037336857756484387\n",
            "l: 0.028977366595076822\n",
            "m: 0.020518751032545846\n",
            "n: 0.057921691723112505\n",
            "o: 0.06446390219725756\n",
            "p: 0.01675202378985627\n",
            "q: 0.0005617049396993227\n",
            "r: 0.053824549810011564\n",
            "s: 0.06618205848339666\n",
            "t: 0.08012555757475633\n",
            "u: 0.026664463902197257\n",
            "v: 0.009284652238559392\n",
            "w: 0.015496448042293078\n",
            "x: 0.001156451346439782\n",
            "y: 0.013844374690236246\n",
            "z: 0.0006277878737815959\n",
            " : 0.1792499586981662\n"
          ]
        }
      ]
    },
    {
      "cell_type": "markdown",
      "source": [
        "# Q 3.3"
      ],
      "metadata": {
        "id": "BwqOcs8FVsHI"
      }
    },
    {
      "cell_type": "code",
      "source": [
        "print(\"Class-conditional probabilities for Spanish:\")\n",
        "for idx, char in enumerate(\"abcdefghijklmnopqrstuvwxyz \"):\n",
        "    print(f\"{char}: {theta_s[idx]}\")\n",
        ""
      ],
      "metadata": {
        "colab": {
          "base_uri": "https://localhost:8080/"
        },
        "id": "Ni7HMpDLGyVU",
        "outputId": "06adda09-97a3-4bcf-9764-00153ae06e4f"
      },
      "execution_count": 7,
      "outputs": [
        {
          "output_type": "stream",
          "name": "stdout",
          "text": [
            "Class-conditional probabilities for Spanish:\n",
            "a: 0.10456045141993771\n",
            "b: 0.008232863618143134\n",
            "c: 0.03752582405722919\n",
            "d: 0.039745922111559924\n",
            "e: 0.1138108599796491\n",
            "f: 0.00860287996053159\n",
            "g: 0.0071844839813758445\n",
            "h: 0.0045327001942585795\n",
            "i: 0.049859702136844375\n",
            "j: 0.006629459467793161\n",
            "k: 0.0002775122567913416\n",
            "l: 0.052943171656748174\n",
            "m: 0.02580863988159477\n",
            "n: 0.054176559464709693\n",
            "o: 0.07249236841293824\n",
            "p: 0.02426690512164287\n",
            "q: 0.007677839104560451\n",
            "r: 0.05929511886774999\n",
            "s: 0.06577040485954797\n",
            "t: 0.03561407295488884\n",
            "u: 0.03370232185254849\n",
            "v: 0.00588942678301625\n",
            "w: 9.250408559711388e-05\n",
            "x: 0.0024976103111220747\n",
            "y: 0.007862847275754679\n",
            "z: 0.0026826184823163022\n",
            " : 0.16826493170115014\n"
          ]
        }
      ]
    },
    {
      "cell_type": "code",
      "source": [
        "print(\"Class-conditional probabilities for Japanese:\")\n",
        "for idx, char in enumerate(\"abcdefghijklmnopqrstuvwxyz \"):\n",
        "    print(f\"{char}: {theta_j[idx]}\")"
      ],
      "metadata": {
        "colab": {
          "base_uri": "https://localhost:8080/"
        },
        "id": "IiUzTQSXNTsi",
        "outputId": "956442e9-c0b5-4e28-9aef-8300edba04fa"
      },
      "execution_count": 8,
      "outputs": [
        {
          "output_type": "stream",
          "name": "stdout",
          "text": [
            "Class-conditional probabilities for Japanese:\n",
            "a: 0.1317656102589189\n",
            "b: 0.010866906600510151\n",
            "c: 0.005485866033054963\n",
            "d: 0.01722631818022992\n",
            "e: 0.06020475907613823\n",
            "f: 0.003878542227191726\n",
            "g: 0.014011670568503443\n",
            "h: 0.03176211607673224\n",
            "i: 0.09703343932352633\n",
            "j: 0.0023411020650616725\n",
            "k: 0.05740941332681086\n",
            "l: 0.001432614696530277\n",
            "m: 0.03979873510604843\n",
            "n: 0.05671057688947902\n",
            "o: 0.09116321324993885\n",
            "p: 0.0008735455466648031\n",
            "q: 0.00010482546559977637\n",
            "r: 0.04280373178657535\n",
            "s: 0.0421747789929767\n",
            "t: 0.056990111464411755\n",
            "u: 0.07061742199238269\n",
            "v: 0.0002445927530661449\n",
            "w: 0.01974212935462455\n",
            "x: 3.4941821866592126e-05\n",
            "y: 0.01415143785596981\n",
            "z: 0.00772214263251686\n",
            " : 0.12344945665466997\n"
          ]
        }
      ]
    },
    {
      "cell_type": "markdown",
      "source": [
        "# Q 3.4"
      ],
      "metadata": {
        "id": "bF7wVdC7VpxL"
      }
    },
    {
      "cell_type": "code",
      "source": [
        "vocabulary = list('abcdefghijklmnopqrstuvwxyz ')\n",
        "count_vector = np.zeros(27, dtype=int)\n",
        "\n",
        "with open(\"e10.txt\", \"r\") as f:\n",
        "    content = f.read().lower()\n",
        "\n",
        "# count the chars\n",
        "for char in content:\n",
        "    if char in vocabulary:\n",
        "        index = vocabulary.index(char)\n",
        "        count_vector[index] += 1\n",
        "\n",
        "print(count_vector)\n"
      ],
      "metadata": {
        "colab": {
          "base_uri": "https://localhost:8080/"
        },
        "id": "G7-J8Ci6NYjP",
        "outputId": "1a0b5b21-406b-4d8e-860e-b30ad734c72e"
      },
      "execution_count": 9,
      "outputs": [
        {
          "output_type": "stream",
          "name": "stdout",
          "text": [
            "[164  32  53  57 311  55  51 140 140   3   6  85  64 139 182  53   3 141\n",
            " 186 225  65  31  47   4  38   2 498]\n"
          ]
        }
      ]
    },
    {
      "cell_type": "code",
      "source": [
        "x = count_vector\n",
        "\n",
        "log_likelihood_e = np.sum(x * np.log(theta_e))\n",
        "log_likelihood_j = np.sum(x * np.log(theta_j))\n",
        "log_likelihood_s = np.sum(x * np.log(theta_s))\n",
        "\n",
        "# If you need the actual likelihoods, you can exponentiate the log-likelihoods:\n",
        "likelihood_e = np.exp(log_likelihood_e)\n",
        "likelihood_j = np.exp(log_likelihood_j)\n",
        "likelihood_s = np.exp(log_likelihood_s)\n",
        "\n",
        "print(\"Log Likelihood for English:\", log_likelihood_e)\n",
        "print(\"Log Likelihood for Japanese:\", log_likelihood_j)\n",
        "print(\"Log Likelihood for Spanish:\", log_likelihood_s)"
      ],
      "metadata": {
        "colab": {
          "base_uri": "https://localhost:8080/"
        },
        "id": "jgT76YZ4USR1",
        "outputId": "4814e5df-95d6-473f-80c4-1dd5c8efe2fa"
      },
      "execution_count": 12,
      "outputs": [
        {
          "output_type": "stream",
          "name": "stdout",
          "text": [
            "Log Likelihood for English: -7841.865447060635\n",
            "Log Likelihood for Japanese: -8771.433079075032\n",
            "Log Likelihood for Spanish: -8467.282044010557\n"
          ]
        }
      ]
    },
    {
      "cell_type": "code",
      "source": [
        "def read_language_files_10_to_19(language_prefix):\n",
        "    texts = []\n",
        "    for i in range(10, 20):\n",
        "        filename = os.path.join(language_prefix + str(i) + \".txt\")\n",
        "        with open(filename, 'r', encoding='utf-8') as file:\n",
        "            texts.append(file.read())\n",
        "    return texts\n",
        "\n",
        "e_test_texts = read_language_files_10_to_19(\"e\")\n",
        "j_test_texts = read_language_files_10_to_19(\"j\")\n",
        "s_test_texts = read_language_files_10_to_19(\"s\")\n",
        "\n",
        "# lump them together\n",
        "all_test_texts = e_test_texts + j_test_texts + s_test_texts\n",
        "true_labels = [0]*10 + [1]*10 + [2]*10  # making label list\n",
        "\n",
        "def classify_text(text, thetas, priors):\n",
        "    count_vector = np.zeros(27, dtype=int)\n",
        "    # get the count vector for each doc\n",
        "    for char in text:\n",
        "        if char in vocabulary:\n",
        "            index = vocabulary.index(char)\n",
        "            count_vector[index] += 1\n",
        "    log_likelihoods = [np.sum( count_vector * np.log(theta)) + prior for theta, prior in zip(thetas, priors)]\n",
        "    return np.argmax(log_likelihoods)\n",
        "\n",
        "# Compute confusion matrix\n",
        "confusion_matrix = np.zeros((3, 3))\n",
        "for text, true_label in zip(all_test_texts, true_labels):\n",
        "    predicted_label = classify_text(text, [theta_e, theta_j, theta_s], [log_p_e, log_p_j,log_p_s]) # make sure to pass in priors as log priors here\n",
        "    confusion_matrix[predicted_label, true_label] += 1\n",
        "\n",
        "print(confusion_matrix)\n",
        "total_docs = confusion_matrix.sum()\n",
        "correct_preds = np.diag(confusion_matrix).sum()\n",
        "accuracy = correct_preds / total_docs\n",
        "print(\"Accuracy:\", accuracy)\n"
      ],
      "metadata": {
        "colab": {
          "base_uri": "https://localhost:8080/"
        },
        "id": "MBY-KkgCwoNz",
        "outputId": "8e81cb5d-f9a7-4c0a-f1cf-8286ccb564dd"
      },
      "execution_count": 14,
      "outputs": [
        {
          "output_type": "stream",
          "name": "stdout",
          "text": [
            "[[10.  0.  0.]\n",
            " [ 0. 10.  0.]\n",
            " [ 0.  0. 10.]]\n",
            "Accuracy: 1.0\n"
          ]
        }
      ]
    },
    {
      "cell_type": "markdown",
      "source": [
        "# Q 4.2"
      ],
      "metadata": {
        "id": "XjU6WvIjYZvH"
      }
    },
    {
      "cell_type": "code",
      "source": [
        "from keras.datasets import mnist\n",
        "from keras.utils import to_categorical\n",
        "\n",
        "# Load MNIST from the package\n",
        "(train_images, train_labels), (test_images, test_labels) = mnist.load_data()\n",
        "train_images = train_images.reshape((60000, 28 * 28)).astype('float32') / 255 # we'll use 5:1 train:test\n",
        "test_images = test_images.reshape((10000, 28 * 28)).astype('float32') / 255\n",
        "train_labels = to_categorical(train_labels) # should be fine to use this for data prep\n",
        "test_labels = to_categorical(test_labels)\n",
        "\n",
        "def sigmoid(x):\n",
        "    return 1 / (1 + np.exp(-x))\n",
        "\n",
        "def softmax(x):\n",
        "    exp_x = np.exp(x - np.max(x))\n",
        "    return exp_x / exp_x.sum(axis=1, keepdims=True)\n",
        "# ==================================================\n",
        "\n",
        "# Forward pass (just matrix mult.s)\n",
        "def forward(x, W1, W2):\n",
        "    h = sigmoid(np.dot(x, W1.T))\n",
        "    y = softmax(np.dot(h, W2.T))\n",
        "    return h, y\n",
        "\n",
        "# Hyperparameters\n",
        "lr = 0.001\n",
        "epochs = 10\n",
        "batch_size = 128 # setting this to 1 = SGD\n",
        "d = train_images.shape[1]\n",
        "d1 = 128  # using 128 nodes in the hidden layer\n",
        "k = 10  # mnist has 10 classes\n",
        "\n",
        "# Init weights to very small values (but not explicitly 0s)\n",
        "W1 = np.random.randn(d1, d) * 0.01\n",
        "W2 = np.random.randn(k, d1) * 0.01\n",
        "\n",
        "# for plotting\n",
        "train_losses = []\n",
        "test_losses = []\n",
        "train_accuracies = []\n",
        "test_accuracies = []\n",
        "\n",
        "# Training\n",
        "for epoch in range(epochs):\n",
        "    for i in range(0, train_images.shape[0], batch_size):\n",
        "        # using the minibatches instead of the whole dataset for each update\n",
        "        x_batch = train_images[i:i+batch_size]\n",
        "        y_batch = train_labels[i:i+batch_size]\n",
        "        # = forward =\n",
        "        h, y_pred = forward(x_batch, W1, W2)\n",
        "        # = backward =\n",
        "        # Compute gradients\n",
        "        dL_dz = y_pred - y_batch\n",
        "        dL_dW2 = np.dot(dL_dz.T, h)\n",
        "        dh = np.dot(dL_dz, W2)\n",
        "        da = dh*h*(1-h)\n",
        "        dL_dW1 =np.dot(da.T, x_batch)\n",
        "        # Update weights\n",
        "        W2 -= lr * dL_dW2\n",
        "        W1 -= lr * dL_dW1\n",
        "    # Eval\n",
        "    _, train_pred = forward(train_images, W1, W2)\n",
        "    _, test_pred = forward(test_images, W1, W2)\n",
        "    train_loss = -np.mean(train_labels * np.log(train_pred + 1e-10))\n",
        "    test_loss = -np.mean(test_labels * np.log(test_pred + 1e-10))\n",
        "    train_accuracy = np.mean(np.argmax(train_pred, axis=1) == np.argmax(train_labels, axis=1))\n",
        "    test_accuracy = np.mean(np.argmax(test_pred, axis=1) == np.argmax(test_labels, axis=1))\n",
        "    print(f'Epoch {epoch+1}/{epochs}, Training Loss: {train_loss:.4f}, Test Loss: {test_loss:.4f}, Train Acc: {train_accuracy:.4f}, Test Acc: {test_accuracy:.4f}')\n",
        "\n",
        "    # store losses and acc's\n",
        "    train_losses.append(train_loss)\n",
        "    test_losses.append(test_loss)\n",
        "    train_accuracies.append(train_accuracy)\n",
        "    test_accuracies.append(test_accuracy)\n"
      ],
      "metadata": {
        "colab": {
          "base_uri": "https://localhost:8080/"
        },
        "id": "eZuFu2Hf0fGv",
        "outputId": "a8565669-2f24-4e3e-b877-ad52bccce2e8"
      },
      "execution_count": 22,
      "outputs": [
        {
          "output_type": "stream",
          "name": "stdout",
          "text": [
            "Epoch 1/10, Training Loss: 0.0705, Test Loss: 0.0691, Train Acc: 0.8155, Test Acc: 0.8152\n",
            "Epoch 2/10, Training Loss: 0.0432, Test Loss: 0.0417, Train Acc: 0.8798, Test Acc: 0.8857\n",
            "Epoch 3/10, Training Loss: 0.0361, Test Loss: 0.0347, Train Acc: 0.8974, Test Acc: 0.8998\n",
            "Epoch 4/10, Training Loss: 0.0326, Test Loss: 0.0314, Train Acc: 0.9056, Test Acc: 0.9089\n",
            "Epoch 5/10, Training Loss: 0.0304, Test Loss: 0.0293, Train Acc: 0.9121, Test Acc: 0.9146\n",
            "Epoch 6/10, Training Loss: 0.0287, Test Loss: 0.0278, Train Acc: 0.9168, Test Acc: 0.9198\n",
            "Epoch 7/10, Training Loss: 0.0273, Test Loss: 0.0265, Train Acc: 0.9209, Test Acc: 0.9241\n",
            "Epoch 8/10, Training Loss: 0.0261, Test Loss: 0.0254, Train Acc: 0.9248, Test Acc: 0.9269\n",
            "Epoch 9/10, Training Loss: 0.0250, Test Loss: 0.0244, Train Acc: 0.9283, Test Acc: 0.9294\n",
            "Epoch 10/10, Training Loss: 0.0240, Test Loss: 0.0235, Train Acc: 0.9314, Test Acc: 0.9327\n"
          ]
        }
      ]
    },
    {
      "cell_type": "code",
      "source": [
        "import matplotlib.pyplot as plt\n",
        "\n",
        "# Plot losses\n",
        "plt.figure(figsize=(12, 5))\n",
        "\n",
        "plt.subplot(1, 2, 1)\n",
        "plt.plot(train_losses, label='Train Loss', color='blue')\n",
        "plt.plot(test_losses, label='Test Loss', color='red')\n",
        "plt.title('Loss over epochs')\n",
        "plt.xlabel('Epochs')\n",
        "plt.ylabel('Loss')\n",
        "plt.legend()\n",
        "\n",
        "# Plotting accuracies\n",
        "plt.subplot(1, 2, 2)\n",
        "plt.plot(train_accuracies, label='Train Accuracy', color='blue')\n",
        "plt.plot(test_accuracies, label='Test Accuracy', color='red')\n",
        "plt.title('Accuracy over epochs')\n",
        "plt.xlabel('Epochs')\n",
        "plt.ylabel('Accuracy')\n",
        "plt.legend()\n",
        "\n",
        "plt.tight_layout()\n",
        "plt.show()"
      ],
      "metadata": {
        "colab": {
          "base_uri": "https://localhost:8080/",
          "height": 507
        },
        "id": "EevuUARY4KJd",
        "outputId": "f7d0ecdd-2646-4beb-fc91-5161b5e5f922"
      },
      "execution_count": 23,
      "outputs": [
        {
          "output_type": "display_data",
          "data": {
            "text/plain": [
              "<Figure size 1200x500 with 2 Axes>"
            ],
            "image/png": "[encoded data removed]"
          },
          "metadata": {}
        }
      ]
    },
    {
      "cell_type": "code",
      "source": [
        "import torch\n",
        "import torch.nn as nn\n",
        "import torch.optim as optim\n",
        "import torchvision\n",
        "import torchvision.transforms as transforms\n",
        "import matplotlib.pyplot as plt\n",
        "\n",
        "# Define the neural network structure\n",
        "class Net(nn.Module):\n",
        "    def __init__(self):\n",
        "        super(Net, self).__init__()\n",
        "        self.fc1 = nn.Linear(784, 300)\n",
        "        self.fc2 = nn.Linear(300, 200)\n",
        "        self.fc3 = nn.Linear(200, 10)\n",
        "        self.sigmoid = nn.Sigmoid()\n",
        "\n",
        "    def forward(self, x):\n",
        "        x = self.fc1(x)\n",
        "        x = self.sigmoid(x)\n",
        "        x = self.fc2(x)\n",
        "        x = self.sigmoid(x)\n",
        "        x = self.fc3(x)\n",
        "        return x\n",
        "\n",
        "# Load MNIST dataset\n",
        "transform = transforms.Compose([transforms.ToTensor(), transforms.Normalize((0.5,), (0.5,))])\n",
        "train_set = torchvision.datasets.MNIST(root='./data', train=True, download=True, transform=transform)\n",
        "train_loader = torch.utils.data.DataLoader(train_set, batch_size=64, shuffle=True)\n",
        "test_set = torchvision.datasets.MNIST(root='./data', train=False, download=True, transform=transform)\n",
        "test_loader = torch.utils.data.DataLoader(test_set, batch_size=64, shuffle=False)\n",
        "\n",
        "# Initializations we need to do\n",
        "net = Net()\n",
        "criterion = nn.CrossEntropyLoss()\n",
        "optimizer = optim.SGD(net.parameters(), lr=0.5, momentum=0)\n",
        "\n",
        "epochs = 10\n",
        "train_losses, test_losses = [], []\n",
        "\n",
        "for epoch in range(epochs):\n",
        "    train_loss = 0.0\n",
        "    for i, (inputs, labels) in enumerate(train_loader):\n",
        "        inputs = inputs.view(-1, 28*28)  # reshape\n",
        "        optimizer.zero_grad()\n",
        "\n",
        "        outputs = net(inputs)\n",
        "        loss = criterion(outputs, labels)\n",
        "        loss.backward()\n",
        "        optimizer.step()\n",
        "\n",
        "        train_loss += loss.item()\n",
        "\n",
        "    test_loss = 0.0\n",
        "    correct = 0\n",
        "    total = 0\n",
        "    with torch.no_grad():\n",
        "        for inputs, labels in test_loader:\n",
        "            inputs = inputs.view(-1, 28*28)\n",
        "            outputs = net(inputs)\n",
        "            loss = criterion(outputs, labels)\n",
        "            test_loss += loss.item()\n",
        "            _, predicted = outputs.max(1)\n",
        "            total += labels.size(0)\n",
        "            correct += predicted.eq(labels).sum().item()\n",
        "\n",
        "    train_losses.append(train_loss / len(train_loader))\n",
        "    test_losses.append(test_loss / len(test_loader))\n",
        "\n",
        "    print(f'Epoch {epoch+1}/{epochs}, Training Loss: {train_losses[-1]:.4f}, Test Loss: {test_losses[-1]:.4f}, Test Acc: {100. * correct / total:.2f}%')\n",
        "\n",
        "# Plot learning curve\n",
        "plt.plot(train_losses, label='Train Loss', color='blue')\n",
        "plt.plot(test_losses, label='Test Loss', color='red')\n",
        "plt.xlabel('Epochs')\n",
        "plt.ylabel('Loss')\n",
        "plt.legend()\n",
        "plt.show()\n"
      ],
      "metadata": {
        "colab": {
          "base_uri": "https://localhost:8080/",
          "height": 628
        },
        "id": "36aDhJ1KbBtV",
        "outputId": "a4735da4-357a-4710-c6e3-a9dd026b9e6f"
      },
      "execution_count": 25,
      "outputs": [
        {
          "output_type": "stream",
          "name": "stdout",
          "text": [
            "Epoch 1/10, Training Loss: 0.7451, Test Loss: 0.2780, Test Acc: 91.62%\n",
            "Epoch 2/10, Training Loss: 0.2379, Test Loss: 0.2075, Test Acc: 93.56%\n",
            "Epoch 3/10, Training Loss: 0.1665, Test Loss: 0.1305, Test Acc: 95.92%\n",
            "Epoch 4/10, Training Loss: 0.1292, Test Loss: 0.2047, Test Acc: 93.37%\n",
            "Epoch 5/10, Training Loss: 0.1049, Test Loss: 0.0992, Test Acc: 96.89%\n",
            "Epoch 6/10, Training Loss: 0.0888, Test Loss: 0.1934, Test Acc: 94.07%\n",
            "Epoch 7/10, Training Loss: 0.0757, Test Loss: 0.0784, Test Acc: 97.36%\n",
            "Epoch 8/10, Training Loss: 0.0644, Test Loss: 0.0780, Test Acc: 97.47%\n",
            "Epoch 9/10, Training Loss: 0.0568, Test Loss: 0.2025, Test Acc: 93.72%\n",
            "Epoch 10/10, Training Loss: 0.0501, Test Loss: 0.1177, Test Acc: 96.14%\n"
          ]
        },
        {
          "output_type": "display_data",
          "data": {
            "text/plain": [
              "<Figure size 640x480 with 1 Axes>"
            ],
            "image/png": "[encoded data removed]"
          },
          "metadata": {}
        }
      ]
    },
    {
      "cell_type": "code",
      "source": [],
      "metadata": {
        "id": "P62NNMrrfICf"
      },
      "execution_count": null,
      "outputs": []
    }
  ]
}